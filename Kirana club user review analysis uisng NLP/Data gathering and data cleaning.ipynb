{
 "cells": [
  {
   "cell_type": "code",
   "execution_count": null,
   "id": "efbb2b22",
   "metadata": {},
   "outputs": [],
   "source": []
  },
  {
   "cell_type": "code",
   "execution_count": 2,
   "id": "faee8a75",
   "metadata": {},
   "outputs": [],
   "source": [
    "!pip install -qq google-play-scraper"
   ]
  },
  {
   "cell_type": "code",
   "execution_count": 3,
   "id": "50e26365",
   "metadata": {},
   "outputs": [],
   "source": [
    "import json\n",
    "import pandas as pd\n",
    "from tqdm import tqdm\n",
    "\n",
    "import seaborn as sns\n",
    "import matplotlib.pyplot as plt\n",
    "%matplotlib inline\n",
    "\n",
    "from google_play_scraper import Sort,reviews_all, app\n",
    "\n",
    "\n"
   ]
  },
  {
   "cell_type": "code",
   "execution_count": 4,
   "id": "6491fa37",
   "metadata": {},
   "outputs": [],
   "source": [
    "kc_data_json=reviews_all('club.kirana',sleep_milliseconds=0,lang='en')"
   ]
  },
  {
   "cell_type": "code",
   "execution_count": 5,
   "id": "ce990495",
   "metadata": {},
   "outputs": [],
   "source": [
    "kc_df=pd.json_normalize(kc_data_json)"
   ]
  },
  {
   "cell_type": "code",
   "execution_count": 6,
   "id": "cd4a94bf",
   "metadata": {},
   "outputs": [
    {
     "data": {
      "text/html": [
       "<div>\n",
       "<style scoped>\n",
       "    .dataframe tbody tr th:only-of-type {\n",
       "        vertical-align: middle;\n",
       "    }\n",
       "\n",
       "    .dataframe tbody tr th {\n",
       "        vertical-align: top;\n",
       "    }\n",
       "\n",
       "    .dataframe thead th {\n",
       "        text-align: right;\n",
       "    }\n",
       "</style>\n",
       "<table border=\"1\" class=\"dataframe\">\n",
       "  <thead>\n",
       "    <tr style=\"text-align: right;\">\n",
       "      <th></th>\n",
       "      <th>reviewId</th>\n",
       "      <th>userName</th>\n",
       "      <th>userImage</th>\n",
       "      <th>content</th>\n",
       "      <th>score</th>\n",
       "      <th>thumbsUpCount</th>\n",
       "      <th>reviewCreatedVersion</th>\n",
       "      <th>at</th>\n",
       "      <th>replyContent</th>\n",
       "      <th>repliedAt</th>\n",
       "    </tr>\n",
       "  </thead>\n",
       "  <tbody>\n",
       "    <tr>\n",
       "      <th>310</th>\n",
       "      <td>8a1a1d9c-578d-48f4-a45a-c0e86f420514</td>\n",
       "      <td>Manish Kumar</td>\n",
       "      <td>https://play-lh.googleusercontent.com/a-/ACNPE...</td>\n",
       "      <td>it's good</td>\n",
       "      <td>4</td>\n",
       "      <td>0</td>\n",
       "      <td>2.5.2</td>\n",
       "      <td>2022-07-27 11:01:14</td>\n",
       "      <td>None</td>\n",
       "      <td>NaT</td>\n",
       "    </tr>\n",
       "    <tr>\n",
       "      <th>14</th>\n",
       "      <td>5088a64e-4390-43cb-93bc-586780ef0928</td>\n",
       "      <td>Ganesh Suryawanshi film</td>\n",
       "      <td>https://play-lh.googleusercontent.com/a/ALm5wu...</td>\n",
       "      <td>ok</td>\n",
       "      <td>4</td>\n",
       "      <td>0</td>\n",
       "      <td>3.1.1</td>\n",
       "      <td>2022-10-05 15:40:26</td>\n",
       "      <td>None</td>\n",
       "      <td>NaT</td>\n",
       "    </tr>\n",
       "    <tr>\n",
       "      <th>1049</th>\n",
       "      <td>47d028f6-8e48-4a0e-9cfe-ce2bbb3d8840</td>\n",
       "      <td>Ashok allu</td>\n",
       "      <td>https://play-lh.googleusercontent.com/a-/ACNPE...</td>\n",
       "      <td>Not withdrawal money</td>\n",
       "      <td>1</td>\n",
       "      <td>0</td>\n",
       "      <td>2.1.2</td>\n",
       "      <td>2022-02-25 07:04:39</td>\n",
       "      <td>None</td>\n",
       "      <td>NaT</td>\n",
       "    </tr>\n",
       "    <tr>\n",
       "      <th>633</th>\n",
       "      <td>41a5a0f4-1c17-4669-aab7-5c446a240f82</td>\n",
       "      <td>Amir Hudda</td>\n",
       "      <td>https://play-lh.googleusercontent.com/a/ALm5wu...</td>\n",
       "      <td>suppeb</td>\n",
       "      <td>4</td>\n",
       "      <td>2</td>\n",
       "      <td>2.5.0</td>\n",
       "      <td>2022-06-09 19:01:25</td>\n",
       "      <td>None</td>\n",
       "      <td>NaT</td>\n",
       "    </tr>\n",
       "    <tr>\n",
       "      <th>1124</th>\n",
       "      <td>ab92d6cf-b35f-418a-86d5-a61376153729</td>\n",
       "      <td>Naresh Singh Rajput</td>\n",
       "      <td>https://play-lh.googleusercontent.com/a-/ACNPE...</td>\n",
       "      <td>Super Business Marketing Application</td>\n",
       "      <td>5</td>\n",
       "      <td>1</td>\n",
       "      <td>2.0.2</td>\n",
       "      <td>2021-12-26 19:27:15</td>\n",
       "      <td>None</td>\n",
       "      <td>NaT</td>\n",
       "    </tr>\n",
       "  </tbody>\n",
       "</table>\n",
       "</div>"
      ],
      "text/plain": [
       "                                  reviewId                 userName  \\\n",
       "310   8a1a1d9c-578d-48f4-a45a-c0e86f420514             Manish Kumar   \n",
       "14    5088a64e-4390-43cb-93bc-586780ef0928  Ganesh Suryawanshi film   \n",
       "1049  47d028f6-8e48-4a0e-9cfe-ce2bbb3d8840               Ashok allu   \n",
       "633   41a5a0f4-1c17-4669-aab7-5c446a240f82               Amir Hudda   \n",
       "1124  ab92d6cf-b35f-418a-86d5-a61376153729      Naresh Singh Rajput   \n",
       "\n",
       "                                              userImage  \\\n",
       "310   https://play-lh.googleusercontent.com/a-/ACNPE...   \n",
       "14    https://play-lh.googleusercontent.com/a/ALm5wu...   \n",
       "1049  https://play-lh.googleusercontent.com/a-/ACNPE...   \n",
       "633   https://play-lh.googleusercontent.com/a/ALm5wu...   \n",
       "1124  https://play-lh.googleusercontent.com/a-/ACNPE...   \n",
       "\n",
       "                                   content  score  thumbsUpCount  \\\n",
       "310                              it's good      4              0   \n",
       "14                                      ok      4              0   \n",
       "1049                  Not withdrawal money      1              0   \n",
       "633                                 suppeb      4              2   \n",
       "1124  Super Business Marketing Application      5              1   \n",
       "\n",
       "     reviewCreatedVersion                  at replyContent repliedAt  \n",
       "310                 2.5.2 2022-07-27 11:01:14         None       NaT  \n",
       "14                  3.1.1 2022-10-05 15:40:26         None       NaT  \n",
       "1049                2.1.2 2022-02-25 07:04:39         None       NaT  \n",
       "633                 2.5.0 2022-06-09 19:01:25         None       NaT  \n",
       "1124                2.0.2 2021-12-26 19:27:15         None       NaT  "
      ]
     },
     "execution_count": 6,
     "metadata": {},
     "output_type": "execute_result"
    }
   ],
   "source": [
    "kc_df.sample(5)"
   ]
  },
  {
   "cell_type": "code",
   "execution_count": 7,
   "id": "0c8bee96",
   "metadata": {},
   "outputs": [
    {
     "data": {
      "text/plain": [
       "(1310, 10)"
      ]
     },
     "execution_count": 7,
     "metadata": {},
     "output_type": "execute_result"
    }
   ],
   "source": [
    "kc_df.shape"
   ]
  },
  {
   "cell_type": "code",
   "execution_count": 8,
   "id": "31a81267",
   "metadata": {},
   "outputs": [
    {
     "name": "stdout",
     "output_type": "stream",
     "text": [
      "<class 'pandas.core.frame.DataFrame'>\n",
      "RangeIndex: 1310 entries, 0 to 1309\n",
      "Data columns (total 10 columns):\n",
      " #   Column                Non-Null Count  Dtype         \n",
      "---  ------                --------------  -----         \n",
      " 0   reviewId              1310 non-null   object        \n",
      " 1   userName              1310 non-null   object        \n",
      " 2   userImage             1310 non-null   object        \n",
      " 3   content               1310 non-null   object        \n",
      " 4   score                 1310 non-null   int64         \n",
      " 5   thumbsUpCount         1310 non-null   int64         \n",
      " 6   reviewCreatedVersion  1169 non-null   object        \n",
      " 7   at                    1310 non-null   datetime64[ns]\n",
      " 8   replyContent          116 non-null    object        \n",
      " 9   repliedAt             116 non-null    datetime64[ns]\n",
      "dtypes: datetime64[ns](2), int64(2), object(6)\n",
      "memory usage: 102.5+ KB\n"
     ]
    }
   ],
   "source": [
    "kc_df.info()"
   ]
  },
  {
   "cell_type": "code",
   "execution_count": 9,
   "id": "292332e8",
   "metadata": {},
   "outputs": [
    {
     "data": {
      "text/plain": [
       "2.5.0    194\n",
       "2.5.1    175\n",
       "2.3.2    161\n",
       "3.1.0     90\n",
       "2.4.0     89\n",
       "3.0.1     66\n",
       "2.2.3     64\n",
       "2.0.2     52\n",
       "2.1.2     45\n",
       "1.4.3     43\n",
       "2.0.1     39\n",
       "2.2.2     28\n",
       "1.4.6     23\n",
       "2.0.3     22\n",
       "1.4.2     15\n",
       "1.4.7     14\n",
       "3.1.1     13\n",
       "2.0.6      8\n",
       "2.5.2      7\n",
       "2.2.0      5\n",
       "2.0.0      5\n",
       "2.0.5      4\n",
       "2.1.1      3\n",
       "2.1.0      1\n",
       "2.0.4      1\n",
       "3.0.0      1\n",
       "1.4.4      1\n",
       "Name: reviewCreatedVersion, dtype: int64"
      ]
     },
     "execution_count": 9,
     "metadata": {},
     "output_type": "execute_result"
    }
   ],
   "source": [
    "kc_df['reviewCreatedVersion'].value_counts()"
   ]
  },
  {
   "cell_type": "code",
   "execution_count": 10,
   "id": "a08e344c",
   "metadata": {},
   "outputs": [],
   "source": []
  },
  {
   "cell_type": "code",
   "execution_count": null,
   "id": "001ddb14",
   "metadata": {},
   "outputs": [],
   "source": []
  }
 ],
 "metadata": {
  "kernelspec": {
   "display_name": "Python 3 (ipykernel)",
   "language": "python",
   "name": "python3"
  },
  "language_info": {
   "codemirror_mode": {
    "name": "ipython",
    "version": 3
   },
   "file_extension": ".py",
   "mimetype": "text/x-python",
   "name": "python",
   "nbconvert_exporter": "python",
   "pygments_lexer": "ipython3",
   "version": "3.9.12"
  }
 },
 "nbformat": 4,
 "nbformat_minor": 5
}
