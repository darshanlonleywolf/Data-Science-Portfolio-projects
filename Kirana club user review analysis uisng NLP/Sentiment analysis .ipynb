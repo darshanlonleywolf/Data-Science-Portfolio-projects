{
 "cells": [
  {
   "cell_type": "markdown",
   "id": "4b38a769",
   "metadata": {},
   "source": [
    "### Gathering the raw data (reviews) from google play store using google play scaper"
   ]
  },
  {
   "cell_type": "code",
   "execution_count": null,
   "id": "faee8a75",
   "metadata": {},
   "outputs": [],
   "source": [
    "#!pip install -qq google-play-scraper"
   ]
  },
  {
   "cell_type": "code",
   "execution_count": null,
   "id": "50e26365",
   "metadata": {},
   "outputs": [],
   "source": [
    "import json\n",
    "import pandas as pd\n",
    "from tqdm import tqdm\n",
    "\n",
    "import seaborn as sns\n",
    "import matplotlib.pyplot as plt\n",
    "%matplotlib inline\n",
    "\n",
    "from google_play_scraper import Sort,reviews_all, app\n",
    "\n",
    "\n"
   ]
  },
  {
   "cell_type": "code",
   "execution_count": null,
   "id": "6491fa37",
   "metadata": {},
   "outputs": [],
   "source": [
    "kc_data_json=reviews_all('club.kirana',sleep_milliseconds=0,lang='en')"
   ]
  },
  {
   "cell_type": "code",
   "execution_count": null,
   "id": "ce990495",
   "metadata": {},
   "outputs": [],
   "source": [
    "kc_df=pd.json_normalize(kc_data_json)"
   ]
  },
  {
   "cell_type": "code",
   "execution_count": null,
   "id": "cd4a94bf",
   "metadata": {},
   "outputs": [],
   "source": [
    "kc_df.sample(20)"
   ]
  },
  {
   "cell_type": "code",
   "execution_count": null,
   "id": "0c8bee96",
   "metadata": {},
   "outputs": [],
   "source": [
    "kc_df.shape"
   ]
  },
  {
   "cell_type": "code",
   "execution_count": null,
   "id": "31a81267",
   "metadata": {},
   "outputs": [],
   "source": [
    "kc_df.info()"
   ]
  },
  {
   "cell_type": "code",
   "execution_count": null,
   "id": "292332e8",
   "metadata": {},
   "outputs": [],
   "source": [
    "kc_df['reviewCreatedVersion'].value_counts()"
   ]
  },
  {
   "cell_type": "code",
   "execution_count": null,
   "id": "a08e344c",
   "metadata": {},
   "outputs": [],
   "source": [
    "#kc_df.to_csv('a.csv')"
   ]
  },
  {
   "cell_type": "code",
   "execution_count": null,
   "id": "27dfbf61",
   "metadata": {},
   "outputs": [],
   "source": [
    "kc_df['score'].mean()"
   ]
  },
  {
   "cell_type": "code",
   "execution_count": null,
   "id": "58a860d8",
   "metadata": {},
   "outputs": [],
   "source": [
    "#!pip install transformers"
   ]
  },
  {
   "cell_type": "code",
   "execution_count": null,
   "id": "add8671d",
   "metadata": {},
   "outputs": [],
   "source": [
    "from transformers import pipeline\n",
    "\n",
    "sentiment_analysis = pipeline(\"sentiment-analysis\",model=\"siebert/sentiment-roberta-large-english\")\n"
   ]
  },
  {
   "cell_type": "code",
   "execution_count": null,
   "id": "1d17ba76",
   "metadata": {},
   "outputs": [],
   "source": []
  },
  {
   "cell_type": "code",
   "execution_count": null,
   "id": "2232fdef",
   "metadata": {},
   "outputs": [],
   "source": []
  }
 ],
 "metadata": {
  "kernelspec": {
   "display_name": "Python 3 (ipykernel)",
   "language": "python",
   "name": "python3"
  },
  "language_info": {
   "codemirror_mode": {
    "name": "ipython",
    "version": 3
   },
   "file_extension": ".py",
   "mimetype": "text/x-python",
   "name": "python",
   "nbconvert_exporter": "python",
   "pygments_lexer": "ipython3",
   "version": "3.9.12"
  }
 },
 "nbformat": 4,
 "nbformat_minor": 5
}
