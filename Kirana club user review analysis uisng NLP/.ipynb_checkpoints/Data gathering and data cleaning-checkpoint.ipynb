{
 "cells": [
  {
   "cell_type": "code",
   "execution_count": null,
   "id": "efbb2b22",
   "metadata": {},
   "outputs": [],
   "source": []
  },
  {
   "cell_type": "code",
   "execution_count": 1,
   "id": "faee8a75",
   "metadata": {},
   "outputs": [],
   "source": [
    "!pip install -qq google-play-scraper"
   ]
  },
  {
   "cell_type": "code",
   "execution_count": 7,
   "id": "50e26365",
   "metadata": {},
   "outputs": [],
   "source": [
    "import json\n",
    "import pandas as pd\n",
    "from tqdm import tqdm\n",
    "\n",
    "import seaborn as sns\n",
    "import matplotlib.pyplot as plt\n",
    "%matplotlib inline\n",
    "\n",
    "from google_play_scraper import Sort,reviews_all, app\n",
    "\n",
    "\n"
   ]
  },
  {
   "cell_type": "code",
   "execution_count": 11,
   "id": "6491fa37",
   "metadata": {},
   "outputs": [],
   "source": [
    "kc_data_json=reviews_all('club.kirana',sleep_milliseconds=0,lang='en')"
   ]
  },
  {
   "cell_type": "code",
   "execution_count": 12,
   "id": "ce990495",
   "metadata": {},
   "outputs": [],
   "source": [
    "kc_df=pd.json_normalize(kc_data_json)"
   ]
  },
  {
   "cell_type": "code",
   "execution_count": 18,
   "id": "cd4a94bf",
   "metadata": {},
   "outputs": [
    {
     "data": {
      "text/html": [
       "<div>\n",
       "<style scoped>\n",
       "    .dataframe tbody tr th:only-of-type {\n",
       "        vertical-align: middle;\n",
       "    }\n",
       "\n",
       "    .dataframe tbody tr th {\n",
       "        vertical-align: top;\n",
       "    }\n",
       "\n",
       "    .dataframe thead th {\n",
       "        text-align: right;\n",
       "    }\n",
       "</style>\n",
       "<table border=\"1\" class=\"dataframe\">\n",
       "  <thead>\n",
       "    <tr style=\"text-align: right;\">\n",
       "      <th></th>\n",
       "      <th>reviewId</th>\n",
       "      <th>userName</th>\n",
       "      <th>userImage</th>\n",
       "      <th>content</th>\n",
       "      <th>score</th>\n",
       "      <th>thumbsUpCount</th>\n",
       "      <th>reviewCreatedVersion</th>\n",
       "      <th>at</th>\n",
       "      <th>replyContent</th>\n",
       "      <th>repliedAt</th>\n",
       "    </tr>\n",
       "  </thead>\n",
       "  <tbody>\n",
       "    <tr>\n",
       "      <th>672</th>\n",
       "      <td>0564096b-7258-429e-9377-30fc40cc1985</td>\n",
       "      <td>Kalim Faridi</td>\n",
       "      <td>https://play-lh.googleusercontent.com/a/ALm5wu...</td>\n",
       "      <td>Very good app</td>\n",
       "      <td>5</td>\n",
       "      <td>3</td>\n",
       "      <td>2.4.0</td>\n",
       "      <td>2022-05-28 11:45:37</td>\n",
       "      <td>Thank You Kalim Farid Ji for sharing your valu...</td>\n",
       "      <td>2022-05-31 20:46:12</td>\n",
       "    </tr>\n",
       "    <tr>\n",
       "      <th>1057</th>\n",
       "      <td>08711915-8bd8-47af-a051-c1b0412c45c3</td>\n",
       "      <td>vinit jain</td>\n",
       "      <td>https://play-lh.googleusercontent.com/a/ALm5wu...</td>\n",
       "      <td>Well</td>\n",
       "      <td>5</td>\n",
       "      <td>0</td>\n",
       "      <td>2.0.6</td>\n",
       "      <td>2022-02-07 13:47:22</td>\n",
       "      <td>Thanks a lot, Vinit Ji. We are happy that you ...</td>\n",
       "      <td>2022-02-15 16:36:15</td>\n",
       "    </tr>\n",
       "    <tr>\n",
       "      <th>766</th>\n",
       "      <td>2cc83f68-b01f-4d05-ac6a-df14e7eff67a</td>\n",
       "      <td>RAJU KUMAR</td>\n",
       "      <td>https://play-lh.googleusercontent.com/a-/ACNPE...</td>\n",
       "      <td>my awards</td>\n",
       "      <td>3</td>\n",
       "      <td>0</td>\n",
       "      <td>2.3.2</td>\n",
       "      <td>2022-04-29 14:09:38</td>\n",
       "      <td>None</td>\n",
       "      <td>NaT</td>\n",
       "    </tr>\n",
       "    <tr>\n",
       "      <th>182</th>\n",
       "      <td>595ca75c-c72e-4a0b-9d1d-58935714f3fe</td>\n",
       "      <td>Dipak Poddar</td>\n",
       "      <td>https://play-lh.googleusercontent.com/a-/ACNPE...</td>\n",
       "      <td>ok</td>\n",
       "      <td>3</td>\n",
       "      <td>0</td>\n",
       "      <td>3.0.1</td>\n",
       "      <td>2022-08-20 13:57:08</td>\n",
       "      <td>None</td>\n",
       "      <td>NaT</td>\n",
       "    </tr>\n",
       "    <tr>\n",
       "      <th>865</th>\n",
       "      <td>b40b00f3-be48-48de-9f26-049f8d6045cb</td>\n",
       "      <td>CHANDAN KUMAR</td>\n",
       "      <td>https://play-lh.googleusercontent.com/a-/ACNPE...</td>\n",
       "      <td>nice</td>\n",
       "      <td>5</td>\n",
       "      <td>0</td>\n",
       "      <td>2.3.2</td>\n",
       "      <td>2022-04-08 15:28:29</td>\n",
       "      <td>None</td>\n",
       "      <td>NaT</td>\n",
       "    </tr>\n",
       "  </tbody>\n",
       "</table>\n",
       "</div>"
      ],
      "text/plain": [
       "                                  reviewId       userName  \\\n",
       "672   0564096b-7258-429e-9377-30fc40cc1985   Kalim Faridi   \n",
       "1057  08711915-8bd8-47af-a051-c1b0412c45c3     vinit jain   \n",
       "766   2cc83f68-b01f-4d05-ac6a-df14e7eff67a     RAJU KUMAR   \n",
       "182   595ca75c-c72e-4a0b-9d1d-58935714f3fe   Dipak Poddar   \n",
       "865   b40b00f3-be48-48de-9f26-049f8d6045cb  CHANDAN KUMAR   \n",
       "\n",
       "                                              userImage        content  score  \\\n",
       "672   https://play-lh.googleusercontent.com/a/ALm5wu...  Very good app      5   \n",
       "1057  https://play-lh.googleusercontent.com/a/ALm5wu...           Well      5   \n",
       "766   https://play-lh.googleusercontent.com/a-/ACNPE...      my awards      3   \n",
       "182   https://play-lh.googleusercontent.com/a-/ACNPE...             ok      3   \n",
       "865   https://play-lh.googleusercontent.com/a-/ACNPE...           nice      5   \n",
       "\n",
       "      thumbsUpCount reviewCreatedVersion                  at  \\\n",
       "672               3                2.4.0 2022-05-28 11:45:37   \n",
       "1057              0                2.0.6 2022-02-07 13:47:22   \n",
       "766               0                2.3.2 2022-04-29 14:09:38   \n",
       "182               0                3.0.1 2022-08-20 13:57:08   \n",
       "865               0                2.3.2 2022-04-08 15:28:29   \n",
       "\n",
       "                                           replyContent           repliedAt  \n",
       "672   Thank You Kalim Farid Ji for sharing your valu... 2022-05-31 20:46:12  \n",
       "1057  Thanks a lot, Vinit Ji. We are happy that you ... 2022-02-15 16:36:15  \n",
       "766                                                None                 NaT  \n",
       "182                                                None                 NaT  \n",
       "865                                                None                 NaT  "
      ]
     },
     "execution_count": 18,
     "metadata": {},
     "output_type": "execute_result"
    }
   ],
   "source": [
    "kc_df.sample(5)"
   ]
  },
  {
   "cell_type": "code",
   "execution_count": 17,
   "id": "0c8bee96",
   "metadata": {},
   "outputs": [
    {
     "data": {
      "text/plain": [
       "(1298, 10)"
      ]
     },
     "execution_count": 17,
     "metadata": {},
     "output_type": "execute_result"
    }
   ],
   "source": [
    "kc_df.shape"
   ]
  },
  {
   "cell_type": "code",
   "execution_count": 19,
   "id": "31a81267",
   "metadata": {},
   "outputs": [
    {
     "name": "stdout",
     "output_type": "stream",
     "text": [
      "<class 'pandas.core.frame.DataFrame'>\n",
      "RangeIndex: 1298 entries, 0 to 1297\n",
      "Data columns (total 10 columns):\n",
      " #   Column                Non-Null Count  Dtype         \n",
      "---  ------                --------------  -----         \n",
      " 0   reviewId              1298 non-null   object        \n",
      " 1   userName              1298 non-null   object        \n",
      " 2   userImage             1298 non-null   object        \n",
      " 3   content               1298 non-null   object        \n",
      " 4   score                 1298 non-null   int64         \n",
      " 5   thumbsUpCount         1298 non-null   int64         \n",
      " 6   reviewCreatedVersion  1158 non-null   object        \n",
      " 7   at                    1298 non-null   datetime64[ns]\n",
      " 8   replyContent          116 non-null    object        \n",
      " 9   repliedAt             116 non-null    datetime64[ns]\n",
      "dtypes: datetime64[ns](2), int64(2), object(6)\n",
      "memory usage: 101.5+ KB\n"
     ]
    }
   ],
   "source": [
    "kc_df.info()"
   ]
  },
  {
   "cell_type": "code",
   "execution_count": 28,
   "id": "292332e8",
   "metadata": {},
   "outputs": [
    {
     "data": {
      "text/plain": [
       "2.5.0    194\n",
       "2.5.1    174\n",
       "2.3.2    160\n",
       "2.4.0     89\n",
       "3.1.0     83\n",
       "3.0.1     65\n",
       "2.2.3     65\n",
       "2.0.2     52\n",
       "2.1.2     45\n",
       "1.4.3     43\n",
       "2.0.1     39\n",
       "2.2.2     28\n",
       "1.4.6     23\n",
       "2.0.3     22\n",
       "1.4.2     15\n",
       "1.4.7     14\n",
       "3.1.1     11\n",
       "2.0.6      8\n",
       "2.5.2      7\n",
       "2.2.0      5\n",
       "2.0.0      5\n",
       "2.0.5      4\n",
       "2.1.1      3\n",
       "2.1.0      1\n",
       "2.0.4      1\n",
       "3.0.0      1\n",
       "1.4.4      1\n",
       "Name: reviewCreatedVersion, dtype: int64"
      ]
     },
     "execution_count": 28,
     "metadata": {},
     "output_type": "execute_result"
    }
   ],
   "source": [
    "kc_df['reviewCreatedVersion'].value_counts()"
   ]
  },
  {
   "cell_type": "code",
   "execution_count": null,
   "id": "a08e344c",
   "metadata": {},
   "outputs": [],
   "source": []
  }
 ],
 "metadata": {
  "kernelspec": {
   "display_name": "Python 3 (ipykernel)",
   "language": "python",
   "name": "python3"
  },
  "language_info": {
   "codemirror_mode": {
    "name": "ipython",
    "version": 3
   },
   "file_extension": ".py",
   "mimetype": "text/x-python",
   "name": "python",
   "nbconvert_exporter": "python",
   "pygments_lexer": "ipython3",
   "version": "3.9.12"
  }
 },
 "nbformat": 4,
 "nbformat_minor": 5
}
